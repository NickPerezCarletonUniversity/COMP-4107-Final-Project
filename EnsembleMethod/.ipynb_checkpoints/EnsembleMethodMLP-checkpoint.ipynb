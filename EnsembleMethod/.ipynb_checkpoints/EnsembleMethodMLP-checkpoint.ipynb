{
 "cells": [
  {
   "cell_type": "code",
   "execution_count": 19,
   "metadata": {},
   "outputs": [
    {
     "name": "stdout",
     "output_type": "stream",
     "text": [
      "x_train shape: (60000, 784) y_train shape: (60000, 10)\n",
      "x_test shape: (10000, 784) y_test shape: (10000, 10)\n"
     ]
    }
   ],
   "source": [
    "#trying to implement ensemble method\n",
    "#https://datascience.stackexchange.com/questions/27169/taking-average-of-multiple-neural-networks\n",
    "#mixture of experts 'with kmeans'\n",
    "#https://en.wikipedia.org/wiki/Mixture_of_experts\n",
    "#combining models together university of Tartu\n",
    "#https://courses.cs.ut.ee/MTAT.03.277/2014_fall/uploads/Main/deep-learning-lecture-9-combining-multiple-neural-networks-to-improve-generalization-andres-viikmaa.pdf\n",
    "import tensorflow as tf\n",
    "import numpy as np\n",
    "from tensorflow.examples.tutorials.mnist import input_data\n",
    "import keras\n",
    "from keras.utils import to_categorical\n",
    "\n",
    "(trX, trY), (teX, teY) = tf.keras.datasets.fashion_mnist.load_data()\n",
    "trX = trX.reshape(60000, 784)\n",
    "teX = teX.reshape(10000, 784)\n",
    "\n",
    "trY = to_categorical(trY)\n",
    "teY = to_categorical(teY)\n",
    "\n",
    "\n",
    "print(\"x_train shape:\", trX.shape, \"y_train shape:\", trY.shape)\n",
    "print(\"x_test shape:\", teX.shape, \"y_test shape:\", teY.shape)"
   ]
  },
  {
   "cell_type": "code",
   "execution_count": 53,
   "metadata": {
    "scrolled": true
   },
   "outputs": [
    {
     "name": "stdout",
     "output_type": "stream",
     "text": [
      "0 0.6797\n",
      "1 0.745\n",
      "0 0.6695\n",
      "1 0.7425\n",
      "0 0.6829\n",
      "1 0.7429\n",
      "0 0.6826\n",
      "1 0.7415\n",
      "0 0.6784\n",
      "1 0.7437\n",
      "0 0.6854\n",
      "1 0.7411\n",
      "0 0.6769\n",
      "1 0.742\n",
      "0 0.6816\n",
      "1 0.7446\n",
      "0 0.6845\n",
      "1 0.7451\n",
      "0 0.6897\n",
      "1 0.7391\n",
      "average accuracy of all the models: 0.74275\n",
      "accuracy of the predictions of all the models combined: 0.7454\n"
     ]
    }
   ],
   "source": [
    "def init_weights(shape):\n",
    "    return tf.Variable(tf.random_normal(shape, stddev=0.01))\n",
    "\n",
    "\n",
    "def model(X, w_h1, w_h2, w_o):\n",
    "    h1 = tf.nn.sigmoid(tf.matmul(X, w_h1)) # this is a basic mlp, think 2 stacked logistic regressions\n",
    "    h = tf.nn.sigmoid(tf.matmul(h1, w_h2))\n",
    "    #return tf.matmul(h, w_o, name=\"insertname_here\") if we need to use names and save the models\n",
    "    return tf.matmul(h, w_o) # note that we dont take the softmax at the end because our cost fn does that for us\n",
    "\n",
    "\n",
    "prediction = 0\n",
    "\n",
    "average_model_accuracy = 0\n",
    "\n",
    "models_to_train = 10\n",
    "\n",
    "#saver = tf.train.Saver()\n",
    "\n",
    "# Launch the graph in a session\n",
    "with tf.Session() as sess:\n",
    "        # you need to initialize all variables\n",
    "    for z in range(0,models_to_train):\n",
    "        size_h1 = tf.constant(625, dtype=tf.int32)\n",
    "        size_h2 = tf.constant(300, dtype=tf.int32)\n",
    "\n",
    "        X = tf.placeholder(\"float\", [None, 784])\n",
    "        Y = tf.placeholder(\"float\", [None, 10])\n",
    "\n",
    "        w_h1 = init_weights([784, size_h1]) # create symbolic variables\n",
    "        w_h2 = init_weights([size_h1, size_h2])\n",
    "        w_o = init_weights([size_h2, 10])\n",
    "\n",
    "        py_x = model(X, w_h1, w_h2, w_o)\n",
    "\n",
    "        cost = tf.reduce_mean(tf.nn.softmax_cross_entropy_with_logits(logits=py_x, labels=Y)) # compute costs\n",
    "        train_op = tf.train.GradientDescentOptimizer(0.05).minimize(cost) # construct an optimizer\n",
    "        predict_op = tf.argmax(py_x, 1)\n",
    "        tf.global_variables_initializer().run()\n",
    "        for i in range(2):\n",
    "            for start, end in zip(range(0, len(trX), 128), range(128, len(trX)+1, 128)):\n",
    "                sess.run(train_op, feed_dict={X: trX[start:end], Y: trY[start:end]})\n",
    "            print(i, np.mean(np.argmax(teY, axis=1) ==\n",
    "                             sess.run(predict_op, feed_dict={X: teX})))\n",
    "        average_model_accuracy = np.mean(np.argmax(teY, axis=1) == sess.run(predict_op, feed_dict={X: teX}))/models_to_train + average_model_accuracy\n",
    "        if z == 0:\n",
    "            prediction = sess.run(py_x, feed_dict={X: teX})\n",
    "        else:\n",
    "            prediction = np.add(prediction, sess.run(py_x, feed_dict={X: teX}))\n",
    "        \n",
    "    print(\"average accuracy of all the models: \" + str(average_model_accuracy))\n",
    "    print(\"accuracy of the predictions of all the models combined: \" + str(np.mean(np.argmax(teY, axis=1) == np.argmax(prediction, axis=1)))) \n",
    "        \n",
    "        #saver.save(sess,\"mlp/session.ckpt\")"
   ]
  },
  {
   "cell_type": "code",
   "execution_count": null,
   "metadata": {},
   "outputs": [],
   "source": []
  }
 ],
 "metadata": {
  "kernelspec": {
   "display_name": "Python 3",
   "language": "python",
   "name": "python3"
  },
  "language_info": {
   "codemirror_mode": {
    "name": "ipython",
    "version": 3
   },
   "file_extension": ".py",
   "mimetype": "text/x-python",
   "name": "python",
   "nbconvert_exporter": "python",
   "pygments_lexer": "ipython3",
   "version": "3.6.7"
  }
 },
 "nbformat": 4,
 "nbformat_minor": 2
}
