{
 "cells": [
  {
   "cell_type": "code",
   "execution_count": 32,
   "metadata": {},
   "outputs": [
    {
     "name": "stdout",
     "output_type": "stream",
     "text": [
      "x_train shape: (60000, 784) y_train shape: (60000, 10)\n",
      "x_test shape: (10000, 784) y_test shape: (10000, 10)\n"
     ]
    }
   ],
   "source": [
    "#trying to implement ensemble method\n",
    "#https://datascience.stackexchange.com/questions/27169/taking-average-of-multiple-neural-networks\n",
    "#mixture of experts 'with kmeans'\n",
    "#https://en.wikipedia.org/wiki/Mixture_of_experts\n",
    "#combining models together university of Tartu\n",
    "#https://courses.cs.ut.ee/MTAT.03.277/2014_fall/uploads/Main/deep-learning-lecture-9-combining-multiple-neural-networks-to-improve-generalization-andres-viikmaa.pdf\n",
    "import tensorflow as tf\n",
    "import numpy as np\n",
    "from tensorflow.examples.tutorials.mnist import input_data\n",
    "import keras\n",
    "from keras.utils import to_categorical\n",
    "\n",
    "(trX, trY), (teX, teY) = tf.keras.datasets.fashion_mnist.load_data()\n",
    "trX = trX.reshape(60000, 784)\n",
    "teX = teX.reshape(10000, 784)\n",
    "\n",
    "trY = to_categorical(trY)\n",
    "teY = to_categorical(teY)\n",
    "\n",
    "\n",
    "print(\"x_train shape:\", trX.shape, \"y_train shape:\", trY.shape)\n",
    "print(\"x_test shape:\", teX.shape, \"y_test shape:\", teY.shape)"
   ]
  },
  {
   "cell_type": "code",
   "execution_count": 39,
   "metadata": {},
   "outputs": [
    {
     "name": "stdout",
     "output_type": "stream",
     "text": [
      "0\n",
      "20\n",
      "40\n",
      "60\n",
      "80\n",
      "99\n"
     ]
    }
   ],
   "source": [
    "def init_weights(shape):\n",
    "    return tf.Variable(tf.random_normal(shape, stddev=0.01))\n",
    "\n",
    "\n",
    "def model(X, w_h1, w_h2, w_o):\n",
    "    h1 = tf.nn.sigmoid(tf.matmul(X, w_h1)) # this is a basic mlp, think 2 stacked logistic regressions\n",
    "    h = tf.nn.sigmoid(tf.matmul(h1, w_h2))\n",
    "    #return tf.matmul(h, w_o, name=\"insertname_here\") if we need to use names and save the models\n",
    "    return tf.matmul(h, w_o) # note that we dont take the softmax at the end because our cost fn does that for us\n",
    "\n",
    "#taken from https://stackoverflow.com/questions/47518609/for-loop-range-and-interval-how-to-include-last-step\n",
    "def myRange(start,end,step):\n",
    "    i = start\n",
    "    while i < end:\n",
    "        yield i\n",
    "        i += step\n",
    "    yield end"
   ]
  },
  {
   "cell_type": "code",
   "execution_count": 34,
   "metadata": {},
   "outputs": [],
   "source": [
    "cluster_centers = np.load('kmeansclusters/' + str(models_to_train) + '.npy')\n",
    "cluster_labels = np.load('kmeanslabels/' + str(models_to_train) + '.npy')\n",
    "\n",
    "partitioned_train_data = []\n",
    "partitioned_test_data = []\n",
    "partitioned_train_labels = []\n",
    "partitioned_test_labels = []\n",
    "\n",
    "for i in range(0,models_to_train):\n",
    "    partitioned_train_data.append([])\n",
    "    partitioned_test_data.append([])\n",
    "    partitioned_train_labels.append([])\n",
    "    partitioned_test_labels.append([])"
   ]
  },
  {
   "cell_type": "code",
   "execution_count": 35,
   "metadata": {},
   "outputs": [
    {
     "name": "stdout",
     "output_type": "stream",
     "text": [
      "(17510, 784)\n",
      "(2967, 784)\n",
      "(17510, 10)\n",
      "(2967, 10)\n",
      "(13148, 784)\n",
      "(2214, 784)\n",
      "(13148, 10)\n",
      "(2214, 10)\n",
      "(9488, 784)\n",
      "(1561, 784)\n",
      "(9488, 10)\n",
      "(1561, 10)\n",
      "(10982, 784)\n",
      "(1764, 784)\n",
      "(10982, 10)\n",
      "(1764, 10)\n",
      "(8872, 784)\n",
      "(1494, 784)\n",
      "(8872, 10)\n",
      "(1494, 10)\n"
     ]
    }
   ],
   "source": [
    "for i in range(0,models_to_train):\n",
    "    for j in range(0,len(trX)):\n",
    "        if cluster_labels[j] == i:\n",
    "            partitioned_train_data[i].append(trX[j])\n",
    "            partitioned_train_labels[i].append(trY[j])\n",
    "    for j in range(0,len(teX)):\n",
    "        if cluster_labels[j + len(trX)] == i:\n",
    "            partitioned_test_data[i].append(teX[j])\n",
    "            partitioned_test_labels[i].append(teY[j])\n",
    "\n",
    "    partitioned_train_data[i] = np.vstack(partitioned_train_data[i])\n",
    "    partitioned_test_data[i] = np.vstack(partitioned_test_data[i])\n",
    "    partitioned_train_labels[i] = np.vstack(partitioned_train_labels[i])\n",
    "    partitioned_test_labels[i] = np.vstack(partitioned_test_labels[i])\n",
    "    \n",
    "    print(partitioned_train_data[i].shape)\n",
    "    print(partitioned_test_data[i].shape)\n",
    "    print(partitioned_train_labels[i].shape)\n",
    "    print(partitioned_test_labels[i].shape)"
   ]
  },
  {
   "cell_type": "code",
   "execution_count": 40,
   "metadata": {},
   "outputs": [
    {
     "name": "stdout",
     "output_type": "stream",
     "text": [
      "0 0.627906976744186\n",
      "1 0.7269969666329625\n",
      "2 0.7401415571284126\n",
      "3 0.7644084934277048\n",
      "4 0.7694641051567239\n",
      "5 0.7762049207954163\n",
      "6 0.7893495112908662\n",
      "7 0.8058645096056622\n",
      "8 0.824401752612066\n",
      "9 0.8267610380856084\n",
      "0 0.3166214995483288\n",
      "1 0.45076784101174344\n",
      "2 0.546973803071364\n",
      "3 0.564137308039747\n",
      "4 0.509936766034327\n",
      "5 0.6074977416440831\n",
      "6 0.5298102981029811\n",
      "7 0.45799457994579945\n",
      "8 0.5998193315266486\n",
      "9 0.5383920505871725\n",
      "0 0.8327994875080077\n",
      "1 0.840486867392697\n",
      "2 0.8680333119795003\n",
      "3 0.8923766816143498\n",
      "4 0.8942985265855221\n",
      "5 0.9051889814221653\n",
      "6 0.9071108263933376\n",
      "7 0.9141575912876362\n",
      "8 0.9039077514413837\n",
      "9 0.9026265214606022\n",
      "0 0.8202947845804989\n",
      "1 0.826530612244898\n",
      "2 0.8361678004535147\n",
      "3 0.8645124716553289\n",
      "4 0.8673469387755102\n",
      "5 0.8650793650793651\n",
      "6 0.8673469387755102\n",
      "7 0.8696145124716553\n",
      "8 0.8679138321995464\n",
      "9 0.8707482993197279\n",
      "0 0.4457831325301205\n",
      "1 0.5943775100401606\n",
      "2 0.5970548862115127\n",
      "3 0.607764390896921\n",
      "4 0.6030789825970548\n",
      "5 0.6318607764390897\n",
      "6 0.6619812583668006\n",
      "7 0.6713520749665328\n",
      "8 0.6680053547523427\n",
      "9 0.6827309236947792\n",
      "accuracy: 0.761\n"
     ]
    }
   ],
   "source": [
    "#saver = tf.train.Saver()\n",
    "\n",
    "prediction = 0\n",
    "\n",
    "model_accuracy = 0\n",
    "\n",
    "models_to_train = 5\n",
    "\n",
    "epochs_per_model = 10\n",
    "\n",
    "batch_size = 128\n",
    "\n",
    "# Launch the graph in a session\n",
    "with tf.Session() as sess:\n",
    "    for z in range(0,models_to_train):\n",
    "        size_h1 = tf.constant(625, dtype=tf.int32)\n",
    "        size_h2 = tf.constant(300, dtype=tf.int32)\n",
    "\n",
    "        X = tf.placeholder(\"float\", [None, 784])\n",
    "        Y = tf.placeholder(\"float\", [None, 10])\n",
    "\n",
    "        w_h1 = init_weights([784, size_h1]) # create symbolic variables\n",
    "        w_h2 = init_weights([size_h1, size_h2])\n",
    "        w_o = init_weights([size_h2, 10])\n",
    "\n",
    "        py_x = model(X, w_h1, w_h2, w_o)\n",
    "        \n",
    "        trX = partitioned_train_data[z]\n",
    "        teX = partitioned_test_data[z]\n",
    "        trY = partitioned_train_labels[z]\n",
    "        teY = partitioned_test_labels[z]\n",
    "\n",
    "        cost = tf.reduce_mean(tf.nn.softmax_cross_entropy_with_logits(logits=py_x, labels=Y)) # compute costs\n",
    "        train_op = tf.train.GradientDescentOptimizer(0.05).minimize(cost) # construct an optimizer\n",
    "        predict_op = tf.argmax(py_x, 1)\n",
    "        tf.global_variables_initializer().run()\n",
    "        for i in range(epochs_per_model):\n",
    "            for start, end in zip(myRange(0, len(trX), batch_size), myRange(batch_size, len(trX)+1, batch_size)):\n",
    "                sess.run(train_op, feed_dict={X: trX[start:end], Y: trY[start:end]})\n",
    "            print(i, np.mean(np.argmax(teY, axis=1) ==\n",
    "                             sess.run(predict_op, feed_dict={X: teX})))\n",
    "        model_accuracy = np.sum(np.argmax(teY, axis=1) == sess.run(predict_op, feed_dict={X: teX})) + model_accuracy\n",
    "        \n",
    "    print(\"accuracy: \" + str(model_accuracy/10000))\n",
    "        \n",
    "        #saver.save(sess,\"mlp/session.ckpt\")"
   ]
  },
  {
   "cell_type": "code",
   "execution_count": null,
   "metadata": {},
   "outputs": [],
   "source": []
  }
 ],
 "metadata": {
  "kernelspec": {
   "display_name": "Python 3",
   "language": "python",
   "name": "python3"
  },
  "language_info": {
   "codemirror_mode": {
    "name": "ipython",
    "version": 3
   },
   "file_extension": ".py",
   "mimetype": "text/x-python",
   "name": "python",
   "nbconvert_exporter": "python",
   "pygments_lexer": "ipython3",
   "version": "3.6.7"
  }
 },
 "nbformat": 4,
 "nbformat_minor": 2
}
